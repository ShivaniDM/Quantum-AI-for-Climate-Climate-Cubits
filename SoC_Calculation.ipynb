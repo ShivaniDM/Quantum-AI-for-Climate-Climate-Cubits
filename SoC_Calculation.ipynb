import pandas as pd
import matplotlib.pyplot as plt

# Constants
Qmax = 2.0  # Maximum capacity of the battery in Ah
SoC_initial = 100  # Initial State of Charge in %

# Load the dataset from the CSV file
file_path = '/content/dataset.csv'
data = pd.read_csv(file_path)

# Ensure the dataset is sorted by cycle and time
data = data.sort_values(by=['cycle', 'time'])

# Initialize SoC list
SoC = []

# Iterate over the dataset to calculate SoC
for i in range(len(data)):
    # Current cycle
    current_cycle = data.iloc[i]['cycle']

    # If it's the first entry or a new cycle, reset SoC to SoC_initial
    if i == 0 or data.iloc[i]['cycle'] != data.iloc[i - 1]['cycle']:
        SoC.append(SoC_initial)
    else:
        # Current (A) and Time (s) from the dataset
        I_current = data.iloc[i]['current_measured']
        delta_t = data.iloc[i]['time'] - data.iloc[i - 1]['time']

        # Calculate the charge/discharge in Coulombs
        charge_discharge = I_current * delta_t

        # Calculate the change in SoC
        delta_SoC = (charge_discharge / 3600) / Qmax * 100

        # Update SoC
        new_SoC = SoC[-1] + delta_SoC
        SoC.append(new_SoC)

# Add SoC to the DataFrame
data['SoC'] = SoC

# Save the updated dataset with SoC values
output_file = '/content/battery_data_with_SoC.csv'
data.to_csv(output_file, index=False)

print(f"State of Charge calculation completed and saved to '{output_file}'.")
print(SoC)
